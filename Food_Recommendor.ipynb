{
 "cells": [
  {
   "cell_type": "code",
   "execution_count": 1,
   "id": "22bb7fd4-71cc-4e87-bf05-e714a50de3e1",
   "metadata": {},
   "outputs": [],
   "source": [
    "import numpy as np\n",
    "import pandas as pd\n",
    "\n",
    "import matplotlib as plt"
   ]
  },
  {
   "cell_type": "code",
   "execution_count": 2,
   "id": "7a5a2cf8-d555-496f-bd2a-e55dcaedf567",
   "metadata": {},
   "outputs": [],
   "source": [
    "food = pd.read_csv(\"C:/Users/ssama/OneDrive/Desktop/samarth/ML Projects/Food_Recommendor_system/indian_food.csv\")"
   ]
  },
  {
   "cell_type": "code",
   "execution_count": 26,
   "id": "aa498bbc-5c30-4e8d-8b26-1339142b5326",
   "metadata": {},
   "outputs": [
    {
     "data": {
      "text/html": [
       "<div>\n",
       "<style scoped>\n",
       "    .dataframe tbody tr th:only-of-type {\n",
       "        vertical-align: middle;\n",
       "    }\n",
       "\n",
       "    .dataframe tbody tr th {\n",
       "        vertical-align: top;\n",
       "    }\n",
       "\n",
       "    .dataframe thead th {\n",
       "        text-align: right;\n",
       "    }\n",
       "</style>\n",
       "<table border=\"1\" class=\"dataframe\">\n",
       "  <thead>\n",
       "    <tr style=\"text-align: right;\">\n",
       "      <th></th>\n",
       "      <th>name</th>\n",
       "      <th>ingredients</th>\n",
       "      <th>diet</th>\n",
       "      <th>prep_time</th>\n",
       "      <th>cook_time</th>\n",
       "      <th>flavor_profile</th>\n",
       "      <th>course</th>\n",
       "      <th>state</th>\n",
       "      <th>region</th>\n",
       "    </tr>\n",
       "  </thead>\n",
       "  <tbody>\n",
       "    <tr>\n",
       "      <th>0</th>\n",
       "      <td>Balu shahi</td>\n",
       "      <td>Maida flour, yogurt, oil, sugar</td>\n",
       "      <td>vegetarian</td>\n",
       "      <td>45</td>\n",
       "      <td>25</td>\n",
       "      <td>sweet</td>\n",
       "      <td>dessert</td>\n",
       "      <td>West Bengal</td>\n",
       "      <td>East</td>\n",
       "    </tr>\n",
       "    <tr>\n",
       "      <th>1</th>\n",
       "      <td>Boondi</td>\n",
       "      <td>Gram flour, ghee, sugar</td>\n",
       "      <td>vegetarian</td>\n",
       "      <td>80</td>\n",
       "      <td>30</td>\n",
       "      <td>sweet</td>\n",
       "      <td>dessert</td>\n",
       "      <td>Rajasthan</td>\n",
       "      <td>West</td>\n",
       "    </tr>\n",
       "    <tr>\n",
       "      <th>2</th>\n",
       "      <td>Gajar ka halwa</td>\n",
       "      <td>Carrots, milk, sugar, ghee, cashews, raisins</td>\n",
       "      <td>vegetarian</td>\n",
       "      <td>15</td>\n",
       "      <td>60</td>\n",
       "      <td>sweet</td>\n",
       "      <td>dessert</td>\n",
       "      <td>Punjab</td>\n",
       "      <td>North</td>\n",
       "    </tr>\n",
       "    <tr>\n",
       "      <th>3</th>\n",
       "      <td>Ghevar</td>\n",
       "      <td>Flour, ghee, kewra, milk, clarified butter, su...</td>\n",
       "      <td>vegetarian</td>\n",
       "      <td>15</td>\n",
       "      <td>30</td>\n",
       "      <td>sweet</td>\n",
       "      <td>dessert</td>\n",
       "      <td>Rajasthan</td>\n",
       "      <td>West</td>\n",
       "    </tr>\n",
       "    <tr>\n",
       "      <th>4</th>\n",
       "      <td>Gulab jamun</td>\n",
       "      <td>Milk powder, plain flour, baking powder, ghee,...</td>\n",
       "      <td>vegetarian</td>\n",
       "      <td>15</td>\n",
       "      <td>40</td>\n",
       "      <td>sweet</td>\n",
       "      <td>dessert</td>\n",
       "      <td>West Bengal</td>\n",
       "      <td>East</td>\n",
       "    </tr>\n",
       "  </tbody>\n",
       "</table>\n",
       "</div>"
      ],
      "text/plain": [
       "             name                                        ingredients  \\\n",
       "0      Balu shahi                    Maida flour, yogurt, oil, sugar   \n",
       "1          Boondi                            Gram flour, ghee, sugar   \n",
       "2  Gajar ka halwa       Carrots, milk, sugar, ghee, cashews, raisins   \n",
       "3          Ghevar  Flour, ghee, kewra, milk, clarified butter, su...   \n",
       "4     Gulab jamun  Milk powder, plain flour, baking powder, ghee,...   \n",
       "\n",
       "         diet  prep_time  cook_time flavor_profile   course        state  \\\n",
       "0  vegetarian         45         25          sweet  dessert  West Bengal   \n",
       "1  vegetarian         80         30          sweet  dessert    Rajasthan   \n",
       "2  vegetarian         15         60          sweet  dessert       Punjab   \n",
       "3  vegetarian         15         30          sweet  dessert    Rajasthan   \n",
       "4  vegetarian         15         40          sweet  dessert  West Bengal   \n",
       "\n",
       "  region  \n",
       "0   East  \n",
       "1   West  \n",
       "2  North  \n",
       "3   West  \n",
       "4   East  "
      ]
     },
     "execution_count": 26,
     "metadata": {},
     "output_type": "execute_result"
    }
   ],
   "source": [
    "food.head()"
   ]
  },
  {
   "cell_type": "markdown",
   "id": "a54389e1-90c2-41bb-96fa-672304a807f6",
   "metadata": {},
   "source": [
    "## Dropping Unecessary columns"
   ]
  },
  {
   "cell_type": "code",
   "execution_count": 4,
   "id": "947103cd-d784-4074-8b53-e6187f6fcdad",
   "metadata": {},
   "outputs": [],
   "source": [
    "food_1 = food.drop(['prep_time','cook_time'], axis =1)"
   ]
  },
  {
   "cell_type": "code",
   "execution_count": 5,
   "id": "255d0edc-5975-4193-9f1a-50ca24a4bd9c",
   "metadata": {},
   "outputs": [
    {
     "data": {
      "text/html": [
       "<div>\n",
       "<style scoped>\n",
       "    .dataframe tbody tr th:only-of-type {\n",
       "        vertical-align: middle;\n",
       "    }\n",
       "\n",
       "    .dataframe tbody tr th {\n",
       "        vertical-align: top;\n",
       "    }\n",
       "\n",
       "    .dataframe thead th {\n",
       "        text-align: right;\n",
       "    }\n",
       "</style>\n",
       "<table border=\"1\" class=\"dataframe\">\n",
       "  <thead>\n",
       "    <tr style=\"text-align: right;\">\n",
       "      <th></th>\n",
       "      <th>name</th>\n",
       "      <th>ingredients</th>\n",
       "      <th>diet</th>\n",
       "      <th>flavor_profile</th>\n",
       "      <th>course</th>\n",
       "      <th>state</th>\n",
       "      <th>region</th>\n",
       "    </tr>\n",
       "  </thead>\n",
       "  <tbody>\n",
       "    <tr>\n",
       "      <th>0</th>\n",
       "      <td>Balu shahi</td>\n",
       "      <td>Maida flour, yogurt, oil, sugar</td>\n",
       "      <td>vegetarian</td>\n",
       "      <td>sweet</td>\n",
       "      <td>dessert</td>\n",
       "      <td>West Bengal</td>\n",
       "      <td>East</td>\n",
       "    </tr>\n",
       "    <tr>\n",
       "      <th>1</th>\n",
       "      <td>Boondi</td>\n",
       "      <td>Gram flour, ghee, sugar</td>\n",
       "      <td>vegetarian</td>\n",
       "      <td>sweet</td>\n",
       "      <td>dessert</td>\n",
       "      <td>Rajasthan</td>\n",
       "      <td>West</td>\n",
       "    </tr>\n",
       "    <tr>\n",
       "      <th>2</th>\n",
       "      <td>Gajar ka halwa</td>\n",
       "      <td>Carrots, milk, sugar, ghee, cashews, raisins</td>\n",
       "      <td>vegetarian</td>\n",
       "      <td>sweet</td>\n",
       "      <td>dessert</td>\n",
       "      <td>Punjab</td>\n",
       "      <td>North</td>\n",
       "    </tr>\n",
       "    <tr>\n",
       "      <th>3</th>\n",
       "      <td>Ghevar</td>\n",
       "      <td>Flour, ghee, kewra, milk, clarified butter, su...</td>\n",
       "      <td>vegetarian</td>\n",
       "      <td>sweet</td>\n",
       "      <td>dessert</td>\n",
       "      <td>Rajasthan</td>\n",
       "      <td>West</td>\n",
       "    </tr>\n",
       "    <tr>\n",
       "      <th>4</th>\n",
       "      <td>Gulab jamun</td>\n",
       "      <td>Milk powder, plain flour, baking powder, ghee,...</td>\n",
       "      <td>vegetarian</td>\n",
       "      <td>sweet</td>\n",
       "      <td>dessert</td>\n",
       "      <td>West Bengal</td>\n",
       "      <td>East</td>\n",
       "    </tr>\n",
       "    <tr>\n",
       "      <th>5</th>\n",
       "      <td>Imarti</td>\n",
       "      <td>Sugar syrup, lentil flour</td>\n",
       "      <td>vegetarian</td>\n",
       "      <td>sweet</td>\n",
       "      <td>dessert</td>\n",
       "      <td>West Bengal</td>\n",
       "      <td>East</td>\n",
       "    </tr>\n",
       "    <tr>\n",
       "      <th>6</th>\n",
       "      <td>Jalebi</td>\n",
       "      <td>Maida, corn flour, baking soda, vinegar, curd,...</td>\n",
       "      <td>vegetarian</td>\n",
       "      <td>sweet</td>\n",
       "      <td>dessert</td>\n",
       "      <td>Uttar Pradesh</td>\n",
       "      <td>North</td>\n",
       "    </tr>\n",
       "    <tr>\n",
       "      <th>7</th>\n",
       "      <td>Kaju katli</td>\n",
       "      <td>Cashews, ghee, cardamom, sugar</td>\n",
       "      <td>vegetarian</td>\n",
       "      <td>sweet</td>\n",
       "      <td>dessert</td>\n",
       "      <td>-1</td>\n",
       "      <td>-1</td>\n",
       "    </tr>\n",
       "    <tr>\n",
       "      <th>8</th>\n",
       "      <td>Kalakand</td>\n",
       "      <td>Milk, cottage cheese, sugar</td>\n",
       "      <td>vegetarian</td>\n",
       "      <td>sweet</td>\n",
       "      <td>dessert</td>\n",
       "      <td>West Bengal</td>\n",
       "      <td>East</td>\n",
       "    </tr>\n",
       "    <tr>\n",
       "      <th>9</th>\n",
       "      <td>Kheer</td>\n",
       "      <td>Milk, rice, sugar, dried fruits</td>\n",
       "      <td>vegetarian</td>\n",
       "      <td>sweet</td>\n",
       "      <td>dessert</td>\n",
       "      <td>-1</td>\n",
       "      <td>-1</td>\n",
       "    </tr>\n",
       "    <tr>\n",
       "      <th>10</th>\n",
       "      <td>Laddu</td>\n",
       "      <td>Gram flour, ghee, sugar</td>\n",
       "      <td>vegetarian</td>\n",
       "      <td>sweet</td>\n",
       "      <td>dessert</td>\n",
       "      <td>-1</td>\n",
       "      <td>-1</td>\n",
       "    </tr>\n",
       "    <tr>\n",
       "      <th>11</th>\n",
       "      <td>Lassi</td>\n",
       "      <td>Yogurt, milk, nuts, sugar</td>\n",
       "      <td>vegetarian</td>\n",
       "      <td>sweet</td>\n",
       "      <td>dessert</td>\n",
       "      <td>Punjab</td>\n",
       "      <td>North</td>\n",
       "    </tr>\n",
       "    <tr>\n",
       "      <th>12</th>\n",
       "      <td>Nankhatai</td>\n",
       "      <td>Refined flour, besan, ghee, powdered sugar, yo...</td>\n",
       "      <td>vegetarian</td>\n",
       "      <td>sweet</td>\n",
       "      <td>dessert</td>\n",
       "      <td>-1</td>\n",
       "      <td>-1</td>\n",
       "    </tr>\n",
       "    <tr>\n",
       "      <th>13</th>\n",
       "      <td>Petha</td>\n",
       "      <td>Firm white pumpkin, sugar, kitchen lime, alum ...</td>\n",
       "      <td>vegetarian</td>\n",
       "      <td>sweet</td>\n",
       "      <td>dessert</td>\n",
       "      <td>Uttar Pradesh</td>\n",
       "      <td>North</td>\n",
       "    </tr>\n",
       "    <tr>\n",
       "      <th>14</th>\n",
       "      <td>Phirni</td>\n",
       "      <td>Rice, sugar, nuts</td>\n",
       "      <td>vegetarian</td>\n",
       "      <td>sweet</td>\n",
       "      <td>dessert</td>\n",
       "      <td>Odisha</td>\n",
       "      <td>East</td>\n",
       "    </tr>\n",
       "    <tr>\n",
       "      <th>15</th>\n",
       "      <td>Rabri</td>\n",
       "      <td>Condensed milk, sugar, spices, nuts</td>\n",
       "      <td>vegetarian</td>\n",
       "      <td>sweet</td>\n",
       "      <td>dessert</td>\n",
       "      <td>Uttar Pradesh</td>\n",
       "      <td>North</td>\n",
       "    </tr>\n",
       "  </tbody>\n",
       "</table>\n",
       "</div>"
      ],
      "text/plain": [
       "              name                                        ingredients  \\\n",
       "0       Balu shahi                    Maida flour, yogurt, oil, sugar   \n",
       "1           Boondi                            Gram flour, ghee, sugar   \n",
       "2   Gajar ka halwa       Carrots, milk, sugar, ghee, cashews, raisins   \n",
       "3           Ghevar  Flour, ghee, kewra, milk, clarified butter, su...   \n",
       "4      Gulab jamun  Milk powder, plain flour, baking powder, ghee,...   \n",
       "5           Imarti                          Sugar syrup, lentil flour   \n",
       "6           Jalebi  Maida, corn flour, baking soda, vinegar, curd,...   \n",
       "7       Kaju katli                     Cashews, ghee, cardamom, sugar   \n",
       "8         Kalakand                        Milk, cottage cheese, sugar   \n",
       "9            Kheer                    Milk, rice, sugar, dried fruits   \n",
       "10           Laddu                            Gram flour, ghee, sugar   \n",
       "11           Lassi                          Yogurt, milk, nuts, sugar   \n",
       "12       Nankhatai  Refined flour, besan, ghee, powdered sugar, yo...   \n",
       "13           Petha  Firm white pumpkin, sugar, kitchen lime, alum ...   \n",
       "14          Phirni                                  Rice, sugar, nuts   \n",
       "15           Rabri                Condensed milk, sugar, spices, nuts   \n",
       "\n",
       "          diet flavor_profile   course          state region  \n",
       "0   vegetarian          sweet  dessert    West Bengal   East  \n",
       "1   vegetarian          sweet  dessert      Rajasthan   West  \n",
       "2   vegetarian          sweet  dessert         Punjab  North  \n",
       "3   vegetarian          sweet  dessert      Rajasthan   West  \n",
       "4   vegetarian          sweet  dessert    West Bengal   East  \n",
       "5   vegetarian          sweet  dessert    West Bengal   East  \n",
       "6   vegetarian          sweet  dessert  Uttar Pradesh  North  \n",
       "7   vegetarian          sweet  dessert             -1     -1  \n",
       "8   vegetarian          sweet  dessert    West Bengal   East  \n",
       "9   vegetarian          sweet  dessert             -1     -1  \n",
       "10  vegetarian          sweet  dessert             -1     -1  \n",
       "11  vegetarian          sweet  dessert         Punjab  North  \n",
       "12  vegetarian          sweet  dessert             -1     -1  \n",
       "13  vegetarian          sweet  dessert  Uttar Pradesh  North  \n",
       "14  vegetarian          sweet  dessert         Odisha   East  \n",
       "15  vegetarian          sweet  dessert  Uttar Pradesh  North  "
      ]
     },
     "execution_count": 5,
     "metadata": {},
     "output_type": "execute_result"
    }
   ],
   "source": [
    "food_1.head(16)"
   ]
  },
  {
   "cell_type": "code",
   "execution_count": 6,
   "id": "fb5cd96c-9630-4f50-80b9-7e5286b0e671",
   "metadata": {},
   "outputs": [],
   "source": [
    "food_2 = food_1.drop(['state'], axis = 1)"
   ]
  },
  {
   "cell_type": "code",
   "execution_count": 7,
   "id": "82e243ca-43b2-4c35-8909-93a1261310cf",
   "metadata": {},
   "outputs": [
    {
     "data": {
      "text/html": [
       "<div>\n",
       "<style scoped>\n",
       "    .dataframe tbody tr th:only-of-type {\n",
       "        vertical-align: middle;\n",
       "    }\n",
       "\n",
       "    .dataframe tbody tr th {\n",
       "        vertical-align: top;\n",
       "    }\n",
       "\n",
       "    .dataframe thead th {\n",
       "        text-align: right;\n",
       "    }\n",
       "</style>\n",
       "<table border=\"1\" class=\"dataframe\">\n",
       "  <thead>\n",
       "    <tr style=\"text-align: right;\">\n",
       "      <th></th>\n",
       "      <th>name</th>\n",
       "      <th>ingredients</th>\n",
       "      <th>diet</th>\n",
       "      <th>flavor_profile</th>\n",
       "      <th>course</th>\n",
       "      <th>region</th>\n",
       "    </tr>\n",
       "  </thead>\n",
       "  <tbody>\n",
       "    <tr>\n",
       "      <th>0</th>\n",
       "      <td>Balu shahi</td>\n",
       "      <td>Maida flour, yogurt, oil, sugar</td>\n",
       "      <td>vegetarian</td>\n",
       "      <td>sweet</td>\n",
       "      <td>dessert</td>\n",
       "      <td>East</td>\n",
       "    </tr>\n",
       "    <tr>\n",
       "      <th>1</th>\n",
       "      <td>Boondi</td>\n",
       "      <td>Gram flour, ghee, sugar</td>\n",
       "      <td>vegetarian</td>\n",
       "      <td>sweet</td>\n",
       "      <td>dessert</td>\n",
       "      <td>West</td>\n",
       "    </tr>\n",
       "    <tr>\n",
       "      <th>2</th>\n",
       "      <td>Gajar ka halwa</td>\n",
       "      <td>Carrots, milk, sugar, ghee, cashews, raisins</td>\n",
       "      <td>vegetarian</td>\n",
       "      <td>sweet</td>\n",
       "      <td>dessert</td>\n",
       "      <td>North</td>\n",
       "    </tr>\n",
       "    <tr>\n",
       "      <th>3</th>\n",
       "      <td>Ghevar</td>\n",
       "      <td>Flour, ghee, kewra, milk, clarified butter, su...</td>\n",
       "      <td>vegetarian</td>\n",
       "      <td>sweet</td>\n",
       "      <td>dessert</td>\n",
       "      <td>West</td>\n",
       "    </tr>\n",
       "    <tr>\n",
       "      <th>4</th>\n",
       "      <td>Gulab jamun</td>\n",
       "      <td>Milk powder, plain flour, baking powder, ghee,...</td>\n",
       "      <td>vegetarian</td>\n",
       "      <td>sweet</td>\n",
       "      <td>dessert</td>\n",
       "      <td>East</td>\n",
       "    </tr>\n",
       "  </tbody>\n",
       "</table>\n",
       "</div>"
      ],
      "text/plain": [
       "             name                                        ingredients  \\\n",
       "0      Balu shahi                    Maida flour, yogurt, oil, sugar   \n",
       "1          Boondi                            Gram flour, ghee, sugar   \n",
       "2  Gajar ka halwa       Carrots, milk, sugar, ghee, cashews, raisins   \n",
       "3          Ghevar  Flour, ghee, kewra, milk, clarified butter, su...   \n",
       "4     Gulab jamun  Milk powder, plain flour, baking powder, ghee,...   \n",
       "\n",
       "         diet flavor_profile   course region  \n",
       "0  vegetarian          sweet  dessert   East  \n",
       "1  vegetarian          sweet  dessert   West  \n",
       "2  vegetarian          sweet  dessert  North  \n",
       "3  vegetarian          sweet  dessert   West  \n",
       "4  vegetarian          sweet  dessert   East  "
      ]
     },
     "execution_count": 7,
     "metadata": {},
     "output_type": "execute_result"
    }
   ],
   "source": [
    "food_2.head()"
   ]
  },
  {
   "cell_type": "markdown",
   "id": "071adda0-7a88-4ac9-aeb3-881b14a014ef",
   "metadata": {},
   "source": [
    "## Handling Null Values"
   ]
  },
  {
   "cell_type": "code",
   "execution_count": 8,
   "id": "48f1b94a-a3cb-4e48-9a03-0a9d10a6f751",
   "metadata": {},
   "outputs": [
    {
     "data": {
      "text/plain": [
       "name              0\n",
       "ingredients       0\n",
       "diet              0\n",
       "flavor_profile    0\n",
       "course            0\n",
       "region            1\n",
       "dtype: int64"
      ]
     },
     "execution_count": 8,
     "metadata": {},
     "output_type": "execute_result"
    }
   ],
   "source": [
    "food_2.isna().sum()"
   ]
  },
  {
   "cell_type": "code",
   "execution_count": 9,
   "id": "7dcd967c-24c8-4988-8917-f5ce5ea51125",
   "metadata": {},
   "outputs": [
    {
     "data": {
      "text/html": [
       "<div>\n",
       "<style scoped>\n",
       "    .dataframe tbody tr th:only-of-type {\n",
       "        vertical-align: middle;\n",
       "    }\n",
       "\n",
       "    .dataframe tbody tr th {\n",
       "        vertical-align: top;\n",
       "    }\n",
       "\n",
       "    .dataframe thead th {\n",
       "        text-align: right;\n",
       "    }\n",
       "</style>\n",
       "<table border=\"1\" class=\"dataframe\">\n",
       "  <thead>\n",
       "    <tr style=\"text-align: right;\">\n",
       "      <th></th>\n",
       "      <th>name</th>\n",
       "      <th>ingredients</th>\n",
       "      <th>diet</th>\n",
       "      <th>flavor_profile</th>\n",
       "      <th>course</th>\n",
       "      <th>region</th>\n",
       "    </tr>\n",
       "  </thead>\n",
       "  <tbody>\n",
       "    <tr>\n",
       "      <th>110</th>\n",
       "      <td>Panjeeri</td>\n",
       "      <td>Whole wheat flour, musk melon seeds, poppy see...</td>\n",
       "      <td>vegetarian</td>\n",
       "      <td>sweet</td>\n",
       "      <td>dessert</td>\n",
       "      <td>NaN</td>\n",
       "    </tr>\n",
       "  </tbody>\n",
       "</table>\n",
       "</div>"
      ],
      "text/plain": [
       "         name                                        ingredients        diet  \\\n",
       "110  Panjeeri  Whole wheat flour, musk melon seeds, poppy see...  vegetarian   \n",
       "\n",
       "    flavor_profile   course region  \n",
       "110          sweet  dessert    NaN  "
      ]
     },
     "execution_count": 9,
     "metadata": {},
     "output_type": "execute_result"
    }
   ],
   "source": [
    "food_2[food_2['region'].isnull()]"
   ]
  },
  {
   "cell_type": "code",
   "execution_count": 10,
   "id": "639509fe-effd-46d6-85fb-67d7973533be",
   "metadata": {},
   "outputs": [],
   "source": [
    "food_2['region'].fillna('North', inplace = True)"
   ]
  },
  {
   "cell_type": "markdown",
   "id": "ea500219-2938-46c0-a42c-87032efc0d2b",
   "metadata": {},
   "source": [
    "## Exploratory Data Analysis"
   ]
  },
  {
   "cell_type": "code",
   "execution_count": 11,
   "id": "9d354202-e17e-4199-9199-74eccfeae3f9",
   "metadata": {},
   "outputs": [
    {
     "data": {
      "text/html": [
       "<div>\n",
       "<style scoped>\n",
       "    .dataframe tbody tr th:only-of-type {\n",
       "        vertical-align: middle;\n",
       "    }\n",
       "\n",
       "    .dataframe tbody tr th {\n",
       "        vertical-align: top;\n",
       "    }\n",
       "\n",
       "    .dataframe thead th {\n",
       "        text-align: right;\n",
       "    }\n",
       "</style>\n",
       "<table border=\"1\" class=\"dataframe\">\n",
       "  <thead>\n",
       "    <tr style=\"text-align: right;\">\n",
       "      <th></th>\n",
       "      <th>name</th>\n",
       "      <th>ingredients</th>\n",
       "      <th>diet</th>\n",
       "      <th>flavor_profile</th>\n",
       "      <th>course</th>\n",
       "      <th>region</th>\n",
       "    </tr>\n",
       "  </thead>\n",
       "  <tbody>\n",
       "    <tr>\n",
       "      <th>0</th>\n",
       "      <td>Balu shahi</td>\n",
       "      <td>Maida flour, yogurt, oil, sugar</td>\n",
       "      <td>vegetarian</td>\n",
       "      <td>sweet</td>\n",
       "      <td>dessert</td>\n",
       "      <td>East</td>\n",
       "    </tr>\n",
       "    <tr>\n",
       "      <th>1</th>\n",
       "      <td>Boondi</td>\n",
       "      <td>Gram flour, ghee, sugar</td>\n",
       "      <td>vegetarian</td>\n",
       "      <td>sweet</td>\n",
       "      <td>dessert</td>\n",
       "      <td>West</td>\n",
       "    </tr>\n",
       "    <tr>\n",
       "      <th>2</th>\n",
       "      <td>Gajar ka halwa</td>\n",
       "      <td>Carrots, milk, sugar, ghee, cashews, raisins</td>\n",
       "      <td>vegetarian</td>\n",
       "      <td>sweet</td>\n",
       "      <td>dessert</td>\n",
       "      <td>North</td>\n",
       "    </tr>\n",
       "    <tr>\n",
       "      <th>3</th>\n",
       "      <td>Ghevar</td>\n",
       "      <td>Flour, ghee, kewra, milk, clarified butter, su...</td>\n",
       "      <td>vegetarian</td>\n",
       "      <td>sweet</td>\n",
       "      <td>dessert</td>\n",
       "      <td>West</td>\n",
       "    </tr>\n",
       "    <tr>\n",
       "      <th>4</th>\n",
       "      <td>Gulab jamun</td>\n",
       "      <td>Milk powder, plain flour, baking powder, ghee,...</td>\n",
       "      <td>vegetarian</td>\n",
       "      <td>sweet</td>\n",
       "      <td>dessert</td>\n",
       "      <td>East</td>\n",
       "    </tr>\n",
       "  </tbody>\n",
       "</table>\n",
       "</div>"
      ],
      "text/plain": [
       "             name                                        ingredients  \\\n",
       "0      Balu shahi                    Maida flour, yogurt, oil, sugar   \n",
       "1          Boondi                            Gram flour, ghee, sugar   \n",
       "2  Gajar ka halwa       Carrots, milk, sugar, ghee, cashews, raisins   \n",
       "3          Ghevar  Flour, ghee, kewra, milk, clarified butter, su...   \n",
       "4     Gulab jamun  Milk powder, plain flour, baking powder, ghee,...   \n",
       "\n",
       "         diet flavor_profile   course region  \n",
       "0  vegetarian          sweet  dessert   East  \n",
       "1  vegetarian          sweet  dessert   West  \n",
       "2  vegetarian          sweet  dessert  North  \n",
       "3  vegetarian          sweet  dessert   West  \n",
       "4  vegetarian          sweet  dessert   East  "
      ]
     },
     "execution_count": 11,
     "metadata": {},
     "output_type": "execute_result"
    }
   ],
   "source": [
    "food_2.head()"
   ]
  },
  {
   "cell_type": "code",
   "execution_count": 12,
   "id": "ec1bae08-08e0-44ee-8549-6b72155173df",
   "metadata": {},
   "outputs": [
    {
     "data": {
      "text/plain": [
       "diet\n",
       "vegetarian        226\n",
       "non vegetarian     29\n",
       "Name: count, dtype: int64"
      ]
     },
     "execution_count": 12,
     "metadata": {},
     "output_type": "execute_result"
    }
   ],
   "source": [
    "food_2['diet'].value_counts()"
   ]
  },
  {
   "cell_type": "code",
   "execution_count": 13,
   "id": "b0db1278-c796-4fad-9203-daa54d9d89e7",
   "metadata": {},
   "outputs": [],
   "source": [
    "import matplotlib.pyplot as plt"
   ]
  },
  {
   "cell_type": "code",
   "execution_count": 14,
   "id": "e60917a8-30f5-4712-94dd-1caa1aeb44d8",
   "metadata": {},
   "outputs": [
    {
     "data": {
      "image/png": "[encoded data removed]",
      "text/plain": [
       "<Figure size 640x480 with 1 Axes>"
      ]
     },
     "metadata": {},
     "output_type": "display_data"
    }
   ],
   "source": [
    "region_counts = food_2['diet'].value_counts()\n",
    "labels = region_counts.index.tolist()  \n",
    "values = region_counts.tolist()\n",
    "plt.pie(values, labels=labels, autopct='%0.2f%%')\n",
    "plt.axis('equal')  \n",
    "plt.title('Vegetarianism vs Non-Vegetarianism')\n",
    "plt.show()\n"
   ]
  },
  {
   "cell_type": "markdown",
   "id": "152d736c-cfd8-42a7-9005-696bd454ec56",
   "metadata": {},
   "source": [
    "## Joining all the features of food items and making them one as \"Tags\""
   ]
  },
  {
   "cell_type": "code",
   "execution_count": 15,
   "id": "a6744d5b-5a9a-40f4-8910-3ec62d2901f2",
   "metadata": {},
   "outputs": [],
   "source": [
    "food_2['tags'] = food_2['ingredients'] + ' ' + food_2['diet'] + ' ' + food_2['flavor_profile'] + ' ' + food_2['course'] + ' ' + food_2['region']\n",
    "food_2['tags'] = food_2['tags'].str.strip().str.lower()\n",
    "\n"
   ]
  },
  {
   "cell_type": "code",
   "execution_count": 16,
   "id": "d360b055-3875-4254-b437-915cc4657a52",
   "metadata": {},
   "outputs": [
    {
     "data": {
      "text/html": [
       "<div>\n",
       "<style scoped>\n",
       "    .dataframe tbody tr th:only-of-type {\n",
       "        vertical-align: middle;\n",
       "    }\n",
       "\n",
       "    .dataframe tbody tr th {\n",
       "        vertical-align: top;\n",
       "    }\n",
       "\n",
       "    .dataframe thead th {\n",
       "        text-align: right;\n",
       "    }\n",
       "</style>\n",
       "<table border=\"1\" class=\"dataframe\">\n",
       "  <thead>\n",
       "    <tr style=\"text-align: right;\">\n",
       "      <th></th>\n",
       "      <th>name</th>\n",
       "      <th>ingredients</th>\n",
       "      <th>diet</th>\n",
       "      <th>flavor_profile</th>\n",
       "      <th>course</th>\n",
       "      <th>region</th>\n",
       "      <th>tags</th>\n",
       "    </tr>\n",
       "  </thead>\n",
       "  <tbody>\n",
       "    <tr>\n",
       "      <th>0</th>\n",
       "      <td>Balu shahi</td>\n",
       "      <td>Maida flour, yogurt, oil, sugar</td>\n",
       "      <td>vegetarian</td>\n",
       "      <td>sweet</td>\n",
       "      <td>dessert</td>\n",
       "      <td>East</td>\n",
       "      <td>maida flour, yogurt, oil, sugar vegetarian swe...</td>\n",
       "    </tr>\n",
       "    <tr>\n",
       "      <th>1</th>\n",
       "      <td>Boondi</td>\n",
       "      <td>Gram flour, ghee, sugar</td>\n",
       "      <td>vegetarian</td>\n",
       "      <td>sweet</td>\n",
       "      <td>dessert</td>\n",
       "      <td>West</td>\n",
       "      <td>gram flour, ghee, sugar vegetarian sweet desse...</td>\n",
       "    </tr>\n",
       "    <tr>\n",
       "      <th>2</th>\n",
       "      <td>Gajar ka halwa</td>\n",
       "      <td>Carrots, milk, sugar, ghee, cashews, raisins</td>\n",
       "      <td>vegetarian</td>\n",
       "      <td>sweet</td>\n",
       "      <td>dessert</td>\n",
       "      <td>North</td>\n",
       "      <td>carrots, milk, sugar, ghee, cashews, raisins v...</td>\n",
       "    </tr>\n",
       "    <tr>\n",
       "      <th>3</th>\n",
       "      <td>Ghevar</td>\n",
       "      <td>Flour, ghee, kewra, milk, clarified butter, su...</td>\n",
       "      <td>vegetarian</td>\n",
       "      <td>sweet</td>\n",
       "      <td>dessert</td>\n",
       "      <td>West</td>\n",
       "      <td>flour, ghee, kewra, milk, clarified butter, su...</td>\n",
       "    </tr>\n",
       "    <tr>\n",
       "      <th>4</th>\n",
       "      <td>Gulab jamun</td>\n",
       "      <td>Milk powder, plain flour, baking powder, ghee,...</td>\n",
       "      <td>vegetarian</td>\n",
       "      <td>sweet</td>\n",
       "      <td>dessert</td>\n",
       "      <td>East</td>\n",
       "      <td>milk powder, plain flour, baking powder, ghee,...</td>\n",
       "    </tr>\n",
       "  </tbody>\n",
       "</table>\n",
       "</div>"
      ],
      "text/plain": [
       "             name                                        ingredients  \\\n",
       "0      Balu shahi                    Maida flour, yogurt, oil, sugar   \n",
       "1          Boondi                            Gram flour, ghee, sugar   \n",
       "2  Gajar ka halwa       Carrots, milk, sugar, ghee, cashews, raisins   \n",
       "3          Ghevar  Flour, ghee, kewra, milk, clarified butter, su...   \n",
       "4     Gulab jamun  Milk powder, plain flour, baking powder, ghee,...   \n",
       "\n",
       "         diet flavor_profile   course region  \\\n",
       "0  vegetarian          sweet  dessert   East   \n",
       "1  vegetarian          sweet  dessert   West   \n",
       "2  vegetarian          sweet  dessert  North   \n",
       "3  vegetarian          sweet  dessert   West   \n",
       "4  vegetarian          sweet  dessert   East   \n",
       "\n",
       "                                                tags  \n",
       "0  maida flour, yogurt, oil, sugar vegetarian swe...  \n",
       "1  gram flour, ghee, sugar vegetarian sweet desse...  \n",
       "2  carrots, milk, sugar, ghee, cashews, raisins v...  \n",
       "3  flour, ghee, kewra, milk, clarified butter, su...  \n",
       "4  milk powder, plain flour, baking powder, ghee,...  "
      ]
     },
     "execution_count": 16,
     "metadata": {},
     "output_type": "execute_result"
    }
   ],
   "source": [
    "food_2.head()"
   ]
  },
  {
   "cell_type": "code",
   "execution_count": 17,
   "id": "81e90668-e847-438e-a58c-e41b632819cc",
   "metadata": {},
   "outputs": [],
   "source": [
    "food_3 = food_2[['name', 'tags']]\n"
   ]
  },
  {
   "cell_type": "code",
   "execution_count": 18,
   "id": "2c0e957c-dd50-4461-b1bf-a28809593852",
   "metadata": {},
   "outputs": [
    {
     "data": {
      "text/html": [
       "<div>\n",
       "<style scoped>\n",
       "    .dataframe tbody tr th:only-of-type {\n",
       "        vertical-align: middle;\n",
       "    }\n",
       "\n",
       "    .dataframe tbody tr th {\n",
       "        vertical-align: top;\n",
       "    }\n",
       "\n",
       "    .dataframe thead th {\n",
       "        text-align: right;\n",
       "    }\n",
       "</style>\n",
       "<table border=\"1\" class=\"dataframe\">\n",
       "  <thead>\n",
       "    <tr style=\"text-align: right;\">\n",
       "      <th></th>\n",
       "      <th>name</th>\n",
       "      <th>tags</th>\n",
       "    </tr>\n",
       "  </thead>\n",
       "  <tbody>\n",
       "    <tr>\n",
       "      <th>0</th>\n",
       "      <td>Balu shahi</td>\n",
       "      <td>maida flour, yogurt, oil, sugar vegetarian swe...</td>\n",
       "    </tr>\n",
       "    <tr>\n",
       "      <th>1</th>\n",
       "      <td>Boondi</td>\n",
       "      <td>gram flour, ghee, sugar vegetarian sweet desse...</td>\n",
       "    </tr>\n",
       "    <tr>\n",
       "      <th>2</th>\n",
       "      <td>Gajar ka halwa</td>\n",
       "      <td>carrots, milk, sugar, ghee, cashews, raisins v...</td>\n",
       "    </tr>\n",
       "    <tr>\n",
       "      <th>3</th>\n",
       "      <td>Ghevar</td>\n",
       "      <td>flour, ghee, kewra, milk, clarified butter, su...</td>\n",
       "    </tr>\n",
       "    <tr>\n",
       "      <th>4</th>\n",
       "      <td>Gulab jamun</td>\n",
       "      <td>milk powder, plain flour, baking powder, ghee,...</td>\n",
       "    </tr>\n",
       "  </tbody>\n",
       "</table>\n",
       "</div>"
      ],
      "text/plain": [
       "             name                                               tags\n",
       "0      Balu shahi  maida flour, yogurt, oil, sugar vegetarian swe...\n",
       "1          Boondi  gram flour, ghee, sugar vegetarian sweet desse...\n",
       "2  Gajar ka halwa  carrots, milk, sugar, ghee, cashews, raisins v...\n",
       "3          Ghevar  flour, ghee, kewra, milk, clarified butter, su...\n",
       "4     Gulab jamun  milk powder, plain flour, baking powder, ghee,..."
      ]
     },
     "execution_count": 18,
     "metadata": {},
     "output_type": "execute_result"
    }
   ],
   "source": [
    "food_3.head()"
   ]
  },
  {
   "cell_type": "markdown",
   "id": "0cd4ecf4-da25-44b4-8729-9e4cdf699a26",
   "metadata": {},
   "source": [
    "## Applying Vectorisation"
   ]
  },
  {
   "cell_type": "code",
   "execution_count": 19,
   "id": "db6feb1b-9459-4313-aa8a-7972273ce224",
   "metadata": {},
   "outputs": [],
   "source": [
    "from sklearn.feature_extraction.text import CountVectorizer\n"
   ]
  },
  {
   "cell_type": "code",
   "execution_count": 20,
   "id": "c78cde54-5a29-401b-a5e8-2c9933802eef",
   "metadata": {},
   "outputs": [],
   "source": [
    "cv = CountVectorizer(max_features = 5000, stop_words = 'english')"
   ]
  },
  {
   "cell_type": "code",
   "execution_count": 21,
   "id": "4c1c2e9a-8f41-40bf-b764-827cdeee71e8",
   "metadata": {},
   "outputs": [
    {
     "data": {
      "text/plain": [
       "array(['acid', 'almond', 'almonds', 'aloo', 'alum', 'amaranth', 'amchur',\n",
       "       'anise', 'apricots', 'arbi', 'arhar', 'arrowroot', 'atta',\n",
       "       'avocado', 'axone', 'baby', 'badam', 'bags', 'baingan', 'baking',\n",
       "       'bamboo', 'banana', 'basmati', 'bay', 'bean', 'beans', 'beaten',\n",
       "       'beef', 'beetroot', 'bell', 'bengal', 'besan', 'bhaji', 'bhatura',\n",
       "       'bhuna', 'biryani', 'bitter', 'black', 'blend', 'boiled', 'bombay',\n",
       "       'boondi', 'bottle', 'bread', 'breasts', 'brinjal', 'brown',\n",
       "       'buffalo', 'butter', 'cabbage', 'canned', 'capsicum', 'cardamom',\n",
       "       'carrot', 'carrots', 'cashew', 'cashews', 'cauliflower', 'central',\n",
       "       'chana', 'cheese', 'chenna', 'chhena', 'chia', 'chicken',\n",
       "       'chickpea', 'chickpeas', 'chili', 'chilies', 'chilli', 'chillies',\n",
       "       'chole', 'chopped', 'chunks', 'chutney', 'cilantro', 'cinnamon',\n",
       "       'citric', 'clarified', 'coconut', 'coloring', 'condensed',\n",
       "       'cooked', 'coriander', 'corn', 'cottage', 'course', 'cream',\n",
       "       'crumbs', 'cucumber', 'curd', 'curry', 'daal', 'dahi', 'dal',\n",
       "       'dates', 'desiccated', 'dessert', 'dharwadi', 'dinner', 'dough',\n",
       "       'dried', 'drumstick', 'drumsticks', 'dry', 'duck', 'east',\n",
       "       'edible', 'egg', 'eggplant', 'eggs', 'elachi', 'elephant',\n",
       "       'falooda', 'fat', 'fennel', 'fenugreek', 'fermented', 'fillet',\n",
       "       'fillets', 'filling', 'finger', 'firm', 'fish', 'flakes', 'flour',\n",
       "       'flower', 'flowers', 'food', 'foot', 'forbidden', 'french',\n",
       "       'fresh', 'fried', 'frozen', 'fruits', 'fry', 'garam', 'garlic',\n",
       "       'ghee', 'ginger', 'glutinous', 'gobi', 'gooseberry', 'gourd',\n",
       "       'gram', 'grated', 'gravy', 'greek', 'green', 'greens', 'gum',\n",
       "       'gur', 'heavy', 'honey', 'hot', 'ice', 'idli', 'imli', 'jaggery',\n",
       "       'jeera', 'jowar', 'juice', 'kala', 'kasuri', 'ke', 'kewra',\n",
       "       'khaman', 'khoa', 'khus', 'kidney', 'kitchen', 'kokum', 'ladies',\n",
       "       'lamb', 'leaf', 'leaves', 'lemon', 'lentil', 'lentils', 'lime',\n",
       "       'litre', 'loaf', 'lobster', 'long', 'low', 'maida', 'main',\n",
       "       'makki', 'malai', 'malvani', 'mango', 'marinade', 'masala',\n",
       "       'mashed', 'masoor', 'mawa', 'meat', 'melon', 'methi', 'milk',\n",
       "       'millet', 'mint', 'mirch', 'mixed', 'molu', 'moong', 'mung',\n",
       "       'mushroom', 'mushrooms', 'musk', 'mustard', 'mutton', 'naan',\n",
       "       'nestle', 'nigella', 'non', 'north', 'nuts', 'oil', 'olive',\n",
       "       'onion', 'onions', 'orange', 'palak', 'panch', 'paneer', 'papaya',\n",
       "       'papdi', 'parboiled', 'paste', 'patte', 'pav', 'peanut', 'peanuts',\n",
       "       'pearl', 'peas', 'pepper', 'peppers', 'petals', 'phoran', 'pigeon',\n",
       "       'pistachio', 'plain', 'pods', 'poha', 'pomegranate', 'poppy',\n",
       "       'pork', 'potato', 'potatoes', 'potol', 'powder', 'powdered',\n",
       "       'power', 'prawns', 'pudding', 'pumpkin', 'purpose', 'raisins',\n",
       "       'rapeseed', 'rava', 'raw', 'red', 'reduced', 'refined', 'rice',\n",
       "       'ridge', 'rind', 'roasted', 'rock', 'roe', 'rolls', 'rose',\n",
       "       'sabudana', 'saffron', 'salt', 'sambar', 'sattu', 'sauce', 'seed',\n",
       "       'seeds', 'semolina', 'sesame', 'sev', 'sevai', 'shimla', 'shoot',\n",
       "       'skimmed', 'skinless', 'sliced', 'slices', 'slivered', 'snack',\n",
       "       'soaked', 'soda', 'sooji', 'sorghum', 'sour', 'south', 'soy',\n",
       "       'spices', 'spicy', 'spinach', 'split', 'star', 'starter',\n",
       "       'steamer', 'stick', 'sticky', 'sugar', 'sunflower', 'surti',\n",
       "       'sweet', 'sweetened', 'syrup', 'tamarind', 'tandoori', 'tea',\n",
       "       'thighs', 'tindora', 'tomato', 'tomatoes', 'toor', 'turmeric',\n",
       "       'urad', 'valor', 'vegetable', 'vegetables', 'vegetarian',\n",
       "       'vermicelli', 'vinegar', 'water', 'watercress', 'west', 'wheat',\n",
       "       'whipping', 'white', 'wild', 'wine', 'yam', 'yellow', 'yoghurt',\n",
       "       'yogurt', 'yolks'], dtype=object)"
      ]
     },
     "execution_count": 21,
     "metadata": {},
     "output_type": "execute_result"
    }
   ],
   "source": [
    "vectors = cv.fit_transform(food_3['tags']).toarray()\n",
    "cv.get_feature_names_out()"
   ]
  },
  {
   "cell_type": "markdown",
   "id": "f675febf-d6c8-4a79-8169-588466f0aab3",
   "metadata": {},
   "source": [
    "## Finding cosine distance"
   ]
  },
  {
   "cell_type": "code",
   "execution_count": 22,
   "id": "1e9e665f-d762-43ae-9a63-36d82de8fd4e",
   "metadata": {},
   "outputs": [],
   "source": [
    "from sklearn.metrics.pairwise import cosine_similarity"
   ]
  },
  {
   "cell_type": "code",
   "execution_count": 23,
   "id": "7b7f8b67-a4cd-4b8c-8d87-37cea0c7b0da",
   "metadata": {},
   "outputs": [
    {
     "name": "stdout",
     "output_type": "stream",
     "text": [
      "(255, 255)\n"
     ]
    }
   ],
   "source": [
    "cosine_shape = cosine_similarity(vectors)\n",
    "shape_of_cosine = cosine_shape.shape  \n",
    "\n",
    "print(shape_of_cosine)\n"
   ]
  },
  {
   "cell_type": "code",
   "execution_count": 24,
   "id": "73396cc5-18f6-4252-b68d-9ee4f764930a",
   "metadata": {},
   "outputs": [
    {
     "data": {
      "text/plain": [
       "[(5, 0.7071067811865475),\n",
       " (28, 0.7071067811865475),\n",
       " (30, 0.7071067811865475),\n",
       " (61, 0.6666666666666666),\n",
       " (10, 0.629940788348712)]"
      ]
     },
     "execution_count": 24,
     "metadata": {},
     "output_type": "execute_result"
    }
   ],
   "source": [
    "sorted(list(enumerate(cosine_shape[0])), reverse = True, key = lambda x: x[1])[1:6]"
   ]
  },
  {
   "cell_type": "code",
   "execution_count": 25,
   "id": "4da851f5-b3e4-419e-b96b-e188fca2a446",
   "metadata": {},
   "outputs": [],
   "source": [
    "def recommend(food):\n",
    "    food_index = food_3[food_3['name'] == food].index[0]\n",
    "    distances = cosine_shape[food_index]  \n",
    "    food_list = sorted(list(enumerate(distances)), key=lambda x: x[1], reverse=True)[1:6]\n",
    "    for i in food_list:\n",
    "        print(food_3.iloc[i[0]]['name'])  "
   ]
  },
  {
   "cell_type": "code",
   "execution_count": null,
   "id": "47df2a97-9956-4abf-9468-71cb3ea568c3",
   "metadata": {},
   "outputs": [],
   "source": []
  },
  {
   "cell_type": "code",
   "execution_count": null,
   "id": "d5b828aa-a38f-4a3d-a2dd-b6c158c91008",
   "metadata": {},
   "outputs": [],
   "source": []
  },
  {
   "cell_type": "code",
   "execution_count": null,
   "id": "2a4fe278-7534-420c-8948-1e49f4db7b64",
   "metadata": {},
   "outputs": [],
   "source": []
  }
 ],
 "metadata": {
  "kernelspec": {
   "display_name": "Python 3 (ipykernel)",
   "language": "python",
   "name": "python3"
  },
  "language_info": {
   "codemirror_mode": {
    "name": "ipython",
    "version": 3
   },
   "file_extension": ".py",
   "mimetype": "text/x-python",
   "name": "python",
   "nbconvert_exporter": "python",
   "pygments_lexer": "ipython3",
   "version": "3.11.1"
  }
 },
 "nbformat": 4,
 "nbformat_minor": 5
}
